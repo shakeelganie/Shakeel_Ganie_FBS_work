{
 "cells": [
  {
   "cell_type": "code",
   "execution_count": 1,
   "id": "33dae89a-8087-41d8-aa40-93a520778cd3",
   "metadata": {},
   "outputs": [],
   "source": [
    "#Qno1- Create a NumPy array containing integers from 0 to 9."
   ]
  },
  {
   "cell_type": "code",
   "execution_count": 2,
   "id": "5cae5c1f-30c2-46ae-9109-bc9dd3deb463",
   "metadata": {},
   "outputs": [],
   "source": [
    "import numpy as np"
   ]
  },
  {
   "cell_type": "code",
   "execution_count": 5,
   "id": "e373eaec-1035-4b4e-bfc5-e9aa65e6ffea",
   "metadata": {},
   "outputs": [
    {
     "name": "stdout",
     "output_type": "stream",
     "text": [
      "[0 1 2 3 4 5 6 7 8 9]\n"
     ]
    }
   ],
   "source": [
    "arr=np.arange(10)\n",
    "print(arr)"
   ]
  },
  {
   "cell_type": "code",
   "execution_count": 6,
   "id": "04765433-5254-45fd-9d38-5c27a0fb1380",
   "metadata": {},
   "outputs": [],
   "source": [
    "#Qno2- Create a NumPy array from a given Python list [10, 20, 30, 40, 50]."
   ]
  },
  {
   "cell_type": "code",
   "execution_count": 9,
   "id": "3254cf07-3a12-4db7-a7ec-b2ac2c07f96b",
   "metadata": {},
   "outputs": [
    {
     "data": {
      "text/plain": [
       "array([10, 20, 30, 40, 50])"
      ]
     },
     "execution_count": 9,
     "metadata": {},
     "output_type": "execute_result"
    }
   ],
   "source": [
    "python_list=[10, 20, 30, 40, 50]\n",
    "arr1=np.array(python_list)\n",
    "arr1"
   ]
  },
  {
   "cell_type": "code",
   "execution_count": 10,
   "id": "f3ea6007-8692-44c9-98bb-4d45847a62f3",
   "metadata": {},
   "outputs": [],
   "source": [
    "#Qno3- Create a 2D array (3x3) with values ranging from 0 to 8."
   ]
  },
  {
   "cell_type": "code",
   "execution_count": 11,
   "id": "13a6ca3b-1bcd-4f33-8357-738c0c2b0500",
   "metadata": {},
   "outputs": [
    {
     "data": {
      "text/plain": [
       "array([[0, 1, 2],\n",
       "       [3, 4, 5],\n",
       "       [6, 7, 8]])"
      ]
     },
     "execution_count": 11,
     "metadata": {},
     "output_type": "execute_result"
    }
   ],
   "source": [
    "arr2=np.arange(0,9).reshape(3,3)\n",
    "arr2"
   ]
  },
  {
   "cell_type": "code",
   "execution_count": 12,
   "id": "cf78c6d2-2ef1-40a4-a687-6a826a6621d7",
   "metadata": {},
   "outputs": [],
   "source": [
    "#Qno4- Given a 2D array, find its shape and size. Create a 5x4 array with random integers between 1 and 100, and print the shape and size."
   ]
  },
  {
   "cell_type": "code",
   "execution_count": 21,
   "id": "67940ca3-83e1-4e14-9c3f-1c4fd34b2837",
   "metadata": {},
   "outputs": [
    {
     "name": "stdout",
     "output_type": "stream",
     "text": [
      "(3, 3)\n",
      "9\n"
     ]
    },
    {
     "data": {
      "text/plain": [
       "array([[61, 90, 98, 99],\n",
       "       [28, 87, 50, 23],\n",
       "       [32, 70, 16, 57],\n",
       "       [19, 45, 37, 70],\n",
       "       [33,  2, 57, 35]], dtype=int32)"
      ]
     },
     "execution_count": 21,
     "metadata": {},
     "output_type": "execute_result"
    }
   ],
   "source": [
    "arr2=np.arange(0,9).reshape(3,3)\n",
    "shape=arr2.shape\n",
    "size = arr2.size\n",
    "print(shape)\n",
    "print(size)\n",
    "\n",
    "arr3=np.random.randint(1,100,20).reshape(5,4)\n",
    "arr3"
   ]
  },
  {
   "cell_type": "code",
   "execution_count": 22,
   "id": "cfb6efbe-95d2-4012-962b-961b0d7fb5cd",
   "metadata": {},
   "outputs": [],
   "source": [
    "#Qno5- Create a 3x3 array of integers and access:\n",
    "# a. The second element of the first row.\n",
    "# b. The third column of the 2nd row.\n",
    "# c. A subarray with the first two rows and last two columns."
   ]
  },
  {
   "cell_type": "code",
   "execution_count": 29,
   "id": "de4d9a50-9db1-4a96-bd10-055e0eeb56c4",
   "metadata": {},
   "outputs": [
    {
     "data": {
      "text/plain": [
       "array([[0, 1, 2],\n",
       "       [3, 4, 5],\n",
       "       [6, 7, 8]])"
      ]
     },
     "execution_count": 29,
     "metadata": {},
     "output_type": "execute_result"
    }
   ],
   "source": [
    "# Create a 3x3 array of integers and access:\n",
    "arr3=np.arange(9).reshape(3,3)\n",
    "arr3"
   ]
  },
  {
   "cell_type": "code",
   "execution_count": 30,
   "id": "9c45a544-b205-4240-a4db-4bc5ab40fbae",
   "metadata": {},
   "outputs": [
    {
     "data": {
      "text/plain": [
       "np.int64(1)"
      ]
     },
     "execution_count": 30,
     "metadata": {},
     "output_type": "execute_result"
    }
   ],
   "source": [
    "# a. The second element of the first row.\n",
    "arr3[0][1]"
   ]
  },
  {
   "cell_type": "code",
   "execution_count": 31,
   "id": "c43bfd61-22df-47a1-b5f5-47fcf89e83c9",
   "metadata": {},
   "outputs": [
    {
     "data": {
      "text/plain": [
       "np.int64(5)"
      ]
     },
     "execution_count": 31,
     "metadata": {},
     "output_type": "execute_result"
    }
   ],
   "source": [
    "# b. The third column of the 2nd row.\n",
    "arr3[1][2]"
   ]
  },
  {
   "cell_type": "code",
   "execution_count": 33,
   "id": "c5dded9b-97f1-41c9-b23d-936235b093bb",
   "metadata": {},
   "outputs": [
    {
     "data": {
      "text/plain": [
       "array([[1, 2],\n",
       "       [4, 5]])"
      ]
     },
     "execution_count": 33,
     "metadata": {},
     "output_type": "execute_result"
    }
   ],
   "source": [
    "# c. A subarray with the first two rows and last two columns.\n",
    "arr3[:2, 1:]"
   ]
  },
  {
   "cell_type": "code",
   "execution_count": null,
   "id": "7084b6b9-1f2c-428f-95b2-2c3ca2326e07",
   "metadata": {},
   "outputs": [],
   "source": [
    "#Qno6- Create a 1D array of 12 elements. Reshape it into a 3x4 2D array."
   ]
  },
  {
   "cell_type": "code",
   "execution_count": 39,
   "id": "0952142e-dee3-457f-a0c7-6a4b80df9855",
   "metadata": {},
   "outputs": [
    {
     "name": "stdout",
     "output_type": "stream",
     "text": [
      "[ 0  1  2  3  4  5  6  7  8  9 10 11]\n",
      "[[ 0  1  2  3]\n",
      " [ 4  5  6  7]\n",
      " [ 8  9 10 11]]\n"
     ]
    }
   ],
   "source": [
    "arr=np.arange(12)\n",
    "print(arr)\n",
    "\n",
    "reshape=arr.reshape(3,4)\n",
    "print(reshape)"
   ]
  },
  {
   "cell_type": "code",
   "execution_count": 40,
   "id": "63d05697-ae61-4a16-b595-ef57e8b40e77",
   "metadata": {},
   "outputs": [],
   "source": [
    "#Qno7- Reshape a 3x3 matrix into a 1D array."
   ]
  },
  {
   "cell_type": "code",
   "execution_count": 44,
   "id": "a2de19f0-90ac-4af5-84f4-a2c14a358d7d",
   "metadata": {},
   "outputs": [
    {
     "name": "stdout",
     "output_type": "stream",
     "text": [
      "[[0 1 2]\n",
      " [3 4 5]\n",
      " [6 7 8]]\n",
      "[0 1 2 3 4 5 6 7 8]\n"
     ]
    }
   ],
   "source": [
    "arr=np.arange(9).reshape(3,3)\n",
    "print(arr)\n",
    "array_1d = arr.reshape(-1)\n",
    "print(array_1d)"
   ]
  },
  {
   "cell_type": "code",
   "execution_count": 45,
   "id": "7546fa85-3a67-4081-a49a-016a5e5a7114",
   "metadata": {},
   "outputs": [],
   "source": [
    "#Qno7- Create two arrays of shape (2, 3): arr1 and arr2. Perform element-wise addition, subtraction, multiplication, and division on them."
   ]
  },
  {
   "cell_type": "code",
   "execution_count": 50,
   "id": "648460ce-0707-468c-9434-7cb430b33eeb",
   "metadata": {},
   "outputs": [
    {
     "name": "stdout",
     "output_type": "stream",
     "text": [
      "[[ 5  9  5]\n",
      " [12  6 15]]\n",
      "[[-3 -5  1]\n",
      " [-4  4 -3]]\n",
      "[[ 4 14  6]\n",
      " [32  5 54]]\n",
      "[[0.25       0.28571429 1.5       ]\n",
      " [0.5        5.         0.66666667]]\n"
     ]
    }
   ],
   "source": [
    "arr1=np.array([[1,2,3],[4,5,6]])\n",
    "arr2=np.array([[4,7,2],[8,1,9]])\n",
    "add=arr1+arr2\n",
    "sub=arr1-arr2\n",
    "mul=arr1*arr2\n",
    "div=arr1/arr2\n",
    "print(add)\n",
    "print(sub)\n",
    "print(mul)\n",
    "print(div)"
   ]
  },
  {
   "cell_type": "code",
   "execution_count": 51,
   "id": "b9289756-e54c-4ca7-8b4d-0781f863bfc7",
   "metadata": {},
   "outputs": [],
   "source": [
    "#Qno9- Use NumPy's built-in functions to compute the sum, mean, and standard deviation of a given array."
   ]
  },
  {
   "cell_type": "code",
   "execution_count": 56,
   "id": "896d83be-9f67-4b62-9a92-619f5771cc3b",
   "metadata": {},
   "outputs": [
    {
     "name": "stdout",
     "output_type": "stream",
     "text": [
      "45\n",
      "4.5\n",
      "2.8722813232690143\n"
     ]
    }
   ],
   "source": [
    "arr=np.arange(10)\n",
    "print(arr.sum())\n",
    "print(arr.mean())\n",
    "print(arr.std())"
   ]
  },
  {
   "cell_type": "code",
   "execution_count": 57,
   "id": "e436115b-6f07-4959-8455-f5db0895d535",
   "metadata": {},
   "outputs": [],
   "source": [
    "#Qno10- Create a 2x2 matrix A and a 2x2 matrix B. Perform matrix multiplication using np.dot() or the @ operator."
   ]
  },
  {
   "cell_type": "code",
   "execution_count": 61,
   "id": "fdebe81f-057c-41d6-8adc-4cc637b1e9fb",
   "metadata": {},
   "outputs": [
    {
     "name": "stdout",
     "output_type": "stream",
     "text": [
      "[[19 22]\n",
      " [43 50]]\n",
      "[[19 22]\n",
      " [43 50]]\n"
     ]
    }
   ],
   "source": [
    "arr1=np.array([[1,2],[3,4]])\n",
    "arr2=np.array([[5,6],[7,8]])\n",
    "# Method 1: Using np.dot()\n",
    "C_dot = np.dot(arr1, arr2)\n",
    "print(C_dot)\n",
    "\n",
    "C_at = arr1 @ arr2\n",
    "print(C_at)"
   ]
  },
  {
   "cell_type": "code",
   "execution_count": 64,
   "id": "9525a7d5-300a-4a73-9c60-ed67990a2a9b",
   "metadata": {},
   "outputs": [],
   "source": [
    "#Qno11- Find the transpose of matrix A and matrix B."
   ]
  },
  {
   "cell_type": "code",
   "execution_count": 63,
   "id": "52e3f26d-8dee-41a0-9eab-9fb0713b8e81",
   "metadata": {},
   "outputs": [
    {
     "name": "stdout",
     "output_type": "stream",
     "text": [
      "Matrix A:\n",
      " [[1 2]\n",
      " [3 4]]\n",
      "Transpose of A:\n",
      " [[1 3]\n",
      " [2 4]]\n",
      "\n",
      "Matrix B:\n",
      " [[5 6]\n",
      " [7 8]]\n",
      "Transpose of B:\n",
      " [[5 7]\n",
      " [6 8]]\n"
     ]
    }
   ],
   "source": [
    "import numpy as np\n",
    "\n",
    "# 2x2 matrices\n",
    "A = np.array([[1, 2],\n",
    "              [3, 4]])\n",
    "\n",
    "B = np.array([[5, 6],\n",
    "              [7, 8]])\n",
    "\n",
    "# Transpose of A and B\n",
    "A_T = A.T\n",
    "B_T = B.T\n",
    "\n",
    "print(\"Matrix A:\\n\", A)\n",
    "print(\"Transpose of A:\\n\", A_T)\n",
    "\n",
    "print(\"\\nMatrix B:\\n\", B)\n",
    "print(\"Transpose of B:\\n\", B_T)\n"
   ]
  },
  {
   "cell_type": "code",
   "execution_count": 65,
   "id": "3daf5c5d-97ce-44bb-85bc-9625db6fd5e8",
   "metadata": {},
   "outputs": [],
   "source": [
    "#Qno12- Create a 3x3 array and a 1D array with 3 elements. Add the 1D array to the 2D array. Explain how broadcasting works in this operation."
   ]
  },
  {
   "cell_type": "code",
   "execution_count": 66,
   "id": "dad77517-ed55-4f64-927b-00f0172ba84f",
   "metadata": {},
   "outputs": [
    {
     "name": "stdout",
     "output_type": "stream",
     "text": [
      "2D Array:\n",
      " [[1 2 3]\n",
      " [4 5 6]\n",
      " [7 8 9]]\n",
      "1D Array:\n",
      " [10 20 30]\n"
     ]
    }
   ],
   "source": [
    "import numpy as np\n",
    "\n",
    "# 3x3 2D array\n",
    "arr_2d = np.array([[1, 2, 3],\n",
    "                   [4, 5, 6],\n",
    "                   [7, 8, 9]])\n",
    "\n",
    "# 1D array with 3 elements\n",
    "arr_1d = np.array([10, 20, 30])\n",
    "\n",
    "print(\"2D Array:\\n\", arr_2d)\n",
    "print(\"1D Array:\\n\", arr_1d)\n"
   ]
  },
  {
   "cell_type": "code",
   "execution_count": 67,
   "id": "c0a9262f-1b8c-4ae6-9033-f38c6e6227c3",
   "metadata": {},
   "outputs": [
    {
     "name": "stdout",
     "output_type": "stream",
     "text": [
      "\n",
      "Result of 2D + 1D array:\n",
      " [[11 22 33]\n",
      " [14 25 36]\n",
      " [17 28 39]]\n"
     ]
    }
   ],
   "source": [
    "# Broadcasting addition\n",
    "result = arr_2d + arr_1d\n",
    "\n",
    "print(\"\\nResult of 2D + 1D array:\\n\", result)\n"
   ]
  },
  {
   "cell_type": "code",
   "execution_count": 68,
   "id": "0e99668a-cb7d-4b0c-958b-80ab3cb3f30e",
   "metadata": {},
   "outputs": [],
   "source": [
    "#Qno13- Create a 4x4 array of random integers. Find the maximum, minimum, and mean of the entire array."
   ]
  },
  {
   "cell_type": "code",
   "execution_count": 74,
   "id": "8be35725-c717-4cf5-87f0-f926eaa274b0",
   "metadata": {},
   "outputs": [
    {
     "name": "stdout",
     "output_type": "stream",
     "text": [
      "15\n",
      "0\n",
      "5.875\n"
     ]
    }
   ],
   "source": [
    "arr=np.random.randint(0,16,16).reshape(4,4)\n",
    "print(arr.max())\n",
    "print(arr.min())\n",
    "print(arr.mean())"
   ]
  },
  {
   "cell_type": "code",
   "execution_count": 79,
   "id": "a226f74c-8268-432f-9b29-3a6d96809e51",
   "metadata": {},
   "outputs": [],
   "source": [
    "#Qno14- Find the row-wise and column-wise sums."
   ]
  },
  {
   "cell_type": "code",
   "execution_count": 76,
   "id": "32445c14-c947-42c8-b2bb-94a65935bfee",
   "metadata": {},
   "outputs": [
    {
     "name": "stdout",
     "output_type": "stream",
     "text": [
      "[[ 1 13 14 14]\n",
      " [13  6 14  7]\n",
      " [ 7  0 10  6]\n",
      " [11  3 13  4]]\n",
      "\n",
      "Row-wise sums: [42 40 23 31]\n",
      "Column-wise sums: [32 22 51 31]\n"
     ]
    }
   ],
   "source": [
    "arr = np.random.randint(0, 16,16).reshape(4, 4)\n",
    "\n",
    "print(arr)\n",
    "\n",
    "# Row-wise sum (sum along columns)\n",
    "row_sums = np.sum(arr, axis=1)\n",
    "print(\"\\nRow-wise sums:\", row_sums)\n",
    "\n",
    "# Column-wise sum (sum along rows)\n",
    "col_sums = np.sum(arr, axis=0)\n",
    "print(\"Column-wise sums:\", col_sums)"
   ]
  },
  {
   "cell_type": "code",
   "execution_count": 78,
   "id": "d4efb9de-4af5-458d-93db-68ed2f9736b8",
   "metadata": {},
   "outputs": [],
   "source": [
    "#Qno15- Generate an array of 10 random integers between 1 and 50."
   ]
  },
  {
   "cell_type": "code",
   "execution_count": 80,
   "id": "cf01edf3-3105-4276-a4a1-1e326d4b2dff",
   "metadata": {},
   "outputs": [
    {
     "data": {
      "text/plain": [
       "array([ 4, 29, 18, 17, 42, 24, 38, 41, 46,  6], dtype=int32)"
      ]
     },
     "execution_count": 80,
     "metadata": {},
     "output_type": "execute_result"
    }
   ],
   "source": [
    "arr=np.random.randint(1,50,10)\n",
    "arr"
   ]
  },
  {
   "cell_type": "code",
   "execution_count": 81,
   "id": "645d1050-65f6-46f1-bc44-23f574c806d6",
   "metadata": {},
   "outputs": [],
   "source": [
    "#Qno16- Generate a 5x5 matrix of random floats between 0 and 1."
   ]
  },
  {
   "cell_type": "code",
   "execution_count": 82,
   "id": "cf6910f4-70c4-4ef7-ac09-c4f6ef15b726",
   "metadata": {},
   "outputs": [
    {
     "data": {
      "text/plain": [
       "array([[0.02707111, 0.85317902, 0.54645532, 0.15297979, 0.04669089],\n",
       "       [0.52893046, 0.99493986, 0.16147048, 0.34213969, 0.34280341],\n",
       "       [0.58606522, 0.35427731, 0.72312307, 0.15273637, 0.31450068],\n",
       "       [0.39266097, 0.82446996, 0.27628403, 0.97575817, 0.17388873],\n",
       "       [0.59598396, 0.0206136 , 0.32674201, 0.60618018, 0.96704835]])"
      ]
     },
     "execution_count": 82,
     "metadata": {},
     "output_type": "execute_result"
    }
   ],
   "source": [
    "arr=np.random.rand(5,5)\n",
    "arr"
   ]
  }
 ],
 "metadata": {
  "kernelspec": {
   "display_name": "Python 3 (ipykernel)",
   "language": "python",
   "name": "python3"
  },
  "language_info": {
   "codemirror_mode": {
    "name": "ipython",
    "version": 3
   },
   "file_extension": ".py",
   "mimetype": "text/x-python",
   "name": "python",
   "nbconvert_exporter": "python",
   "pygments_lexer": "ipython3",
   "version": "3.13.3"
  }
 },
 "nbformat": 4,
 "nbformat_minor": 5
}
