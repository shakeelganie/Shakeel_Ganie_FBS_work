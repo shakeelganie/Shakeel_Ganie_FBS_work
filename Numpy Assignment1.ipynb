{
 "cells": [
  {
   "cell_type": "code",
   "execution_count": 1,
   "id": "25fddce1-c736-4c6a-9f8b-603f4922a72f",
   "metadata": {},
   "outputs": [],
   "source": [
    "#Qno1- Write code to create a 4x3 matrix with values ranging from 2 to 13."
   ]
  },
  {
   "cell_type": "code",
   "execution_count": 2,
   "id": "7f5b0067-b95e-4374-92df-4315818dcb03",
   "metadata": {},
   "outputs": [],
   "source": [
    "import pandas as pd\n",
    "import numpy as np"
   ]
  },
  {
   "cell_type": "code",
   "execution_count": 3,
   "id": "60d2ce71-1ec4-4390-a420-8d3435b93034",
   "metadata": {},
   "outputs": [
    {
     "name": "stdout",
     "output_type": "stream",
     "text": [
      "[[ 2  3  4]\n",
      " [ 5  6  7]\n",
      " [ 8  9 10]\n",
      " [11 12 13]]\n"
     ]
    }
   ],
   "source": [
    "import numpy as np\n",
    "\n",
    "# Create a 4x3 matrix with values from 2 to 13\n",
    "matrix = np.arange(2, 14).reshape(4, 3)\n",
    "\n",
    "print(matrix)"
   ]
  },
  {
   "cell_type": "code",
   "execution_count": 5,
   "id": "71972187-1145-488c-9bc6-f99423437136",
   "metadata": {},
   "outputs": [],
   "source": [
    "#Qno2- Write code to replace the odd numbers by -1 in the array created by using random.randint( 1 , 50,20)"
   ]
  },
  {
   "cell_type": "code",
   "execution_count": 6,
   "id": "efd9e12d-4d7f-408a-9f9f-0819f66216ba",
   "metadata": {},
   "outputs": [
    {
     "data": {
      "text/plain": [
       "array([ 5, 30, 45, 49,  1,  7, 45, 41,  4, 10,  4, 23, 11, 18, 29, 19, 12,\n",
       "       22, 37, 41], dtype=int32)"
      ]
     },
     "execution_count": 6,
     "metadata": {},
     "output_type": "execute_result"
    }
   ],
   "source": [
    "arr=np.random.randint(1,50,20).replace(\n",
    "arr"
   ]
  },
  {
   "cell_type": "code",
   "execution_count": 7,
   "id": "d9721b91-15ab-4262-b6e6-1ee59107bb91",
   "metadata": {},
   "outputs": [
    {
     "name": "stdout",
     "output_type": "stream",
     "text": [
      "Original Array:\n",
      "[40 38 44 23 36 20 33  6 37 33 28  9 17 20  6 12  7  7 11 31]\n",
      "[40 38 44 -1 36 20 -1  6 -1 -1 28 -1 -1 20  6 12 -1 -1 -1 -1]\n"
     ]
    }
   ],
   "source": [
    "import numpy as np\n",
    "\n",
    "# Generate an array of 20 random integers between 1 and 50\n",
    "arr = np.random.randint(1, 51, 20)\n",
    "\n",
    "print(\"Original Array:\")\n",
    "print(arr)\n",
    "\n",
    "# Replace odd numbers with -1\n",
    "arr[arr % 2 != 0] = -1\n",
    "print(arr)\n"
   ]
  },
  {
   "cell_type": "code",
   "execution_count": 9,
   "id": "5f5d411b-bfcb-4663-b8b6-2b19fb8307a6",
   "metadata": {},
   "outputs": [],
   "source": [
    "#Qno3- Perform the following operations on an array of mobile phones prices 6999, 7500, 11999, 27899, 14999, 9999.\n",
    "# a. Create a 1d-array of mobile phones prices\n",
    "# b. Convert this array to float type\n",
    "# c. Append a new mobile having price of 13999 Rs. to this array\n",
    "# d. Reverse this array of mobile phones prices\n",
    "# e. Apply GST of 18% on mobile phones prices and update this array.\n",
    "# f. Sort the array in descending order of price\n",
    "# g. What is the average mobile phone price\n",
    "# h. What is the difference b/w maximum and minimum price"
   ]
  },
  {
   "cell_type": "code",
   "execution_count": 18,
   "id": "9d3b78fc-5322-4e24-be31-c21845a9adf3",
   "metadata": {},
   "outputs": [
    {
     "data": {
      "text/plain": [
       "array([ 6999,  7500, 11999, 27899, 14999,  9999])"
      ]
     },
     "execution_count": 18,
     "metadata": {},
     "output_type": "execute_result"
    }
   ],
   "source": [
    "# a. Create a 1d-array of mobile phones prices\n",
    "\n",
    "prices=np.array([6999, 7500, 11999, 27899, 14999, 9999])\n",
    "prices"
   ]
  },
  {
   "cell_type": "code",
   "execution_count": 15,
   "id": "e610def0-f6b9-4250-bed9-37d47d33506b",
   "metadata": {},
   "outputs": [
    {
     "name": "stdout",
     "output_type": "stream",
     "text": [
      "[ 6999.  7500. 11999. 27899. 14999.  9999.]\n"
     ]
    }
   ],
   "source": [
    "# b. Convert this array to float type\n",
    "prices_float = prices.astype(float)\n",
    "print(prices_float)"
   ]
  },
  {
   "cell_type": "code",
   "execution_count": 17,
   "id": "91523309-26f4-4850-9e0c-31a73b8127ac",
   "metadata": {},
   "outputs": [
    {
     "name": "stdout",
     "output_type": "stream",
     "text": [
      "[ 6999  7500 11999 27899 14999  9999 13999]\n"
     ]
    }
   ],
   "source": [
    "# c. Append a new mobile having price of 13999 Rs. to this array\n",
    "prices=np.array([6999, 7500, 11999, 27899, 14999, 9999])\n",
    "prices = np.append(prices, 13999)\n",
    "print(prices)"
   ]
  },
  {
   "cell_type": "code",
   "execution_count": 22,
   "id": "d6221a6f-cf12-464f-a1a8-e81a3a152415",
   "metadata": {},
   "outputs": [
    {
     "name": "stdout",
     "output_type": "stream",
     "text": [
      "[ 9999 14999 27899 11999  7500  6999]\n"
     ]
    }
   ],
   "source": [
    "# d. Reverse this array of mobile phones prices\n",
    "prices=np.array([6999, 7500, 11999, 27899, 14999, 9999])\n",
    "reversed_prices = prices[::-1]\n",
    "print(reversed_prices)"
   ]
  },
  {
   "cell_type": "code",
   "execution_count": 24,
   "id": "a7b79471-c6cd-4322-a164-2d96559336e6",
   "metadata": {},
   "outputs": [
    {
     "name": "stdout",
     "output_type": "stream",
     "text": [
      "[ 8258.82  8850.   14158.82 32920.82 17698.82 11798.82]\n"
     ]
    }
   ],
   "source": [
    "# e. Apply GST of 18% on mobile phones prices and update this array.\n",
    "prices=np.array([6999, 7500, 11999, 27899, 14999, 9999])\n",
    "updated_prices=(prices*18/100)+prices\n",
    "print(updated_prices)"
   ]
  },
  {
   "cell_type": "code",
   "execution_count": 27,
   "id": "fc220068-d42c-44af-96a4-25dc94707794",
   "metadata": {},
   "outputs": [
    {
     "name": "stdout",
     "output_type": "stream",
     "text": [
      "[27899 14999 11999  9999  7500  6999]\n"
     ]
    }
   ],
   "source": [
    "# f. Sort the array in descending order of price\n",
    "prices=np.array([6999, 7500, 11999, 27899, 14999, 9999])\n",
    "sorted_desc = np.sort(prices)[::-1]\n",
    "print(sorted_desc)"
   ]
  },
  {
   "cell_type": "code",
   "execution_count": 29,
   "id": "86c02598-fbc6-43d0-b839-f9355a9ae900",
   "metadata": {},
   "outputs": [
    {
     "name": "stdout",
     "output_type": "stream",
     "text": [
      "13232.5\n"
     ]
    }
   ],
   "source": [
    "# g. What is the average mobile phone price\n",
    "prices=np.array([6999, 7500, 11999, 27899, 14999, 9999])\n",
    "average_prices=np.mean(prices)\n",
    "print(average_prices)"
   ]
  },
  {
   "cell_type": "code",
   "execution_count": 30,
   "id": "f8ff1578-3fb2-4ded-a5f3-8f5b757fcd0a",
   "metadata": {},
   "outputs": [
    {
     "name": "stdout",
     "output_type": "stream",
     "text": [
      "20900\n"
     ]
    }
   ],
   "source": [
    "# h. What is the difference b/w maximum and minimum price\n",
    "prices=np.array([6999, 7500, 11999, 27899, 14999, 9999])\n",
    "min_price=np.min(prices)\n",
    "max_price=np.max(prices)\n",
    "diffeence_price=max_price-min_price\n",
    "print(diffeence_price)"
   ]
  },
  {
   "cell_type": "code",
   "execution_count": 31,
   "id": "9579045a-da52-4f3c-8515-449af65a54b7",
   "metadata": {},
   "outputs": [],
   "source": [
    "#Qno4- Find out the indices of non zero element in given array [1,2,0,0,4,0]"
   ]
  },
  {
   "cell_type": "code",
   "execution_count": 32,
   "id": "d5c4b938-c0f9-4cf8-90e2-17be148fe4f7",
   "metadata": {},
   "outputs": [
    {
     "name": "stdout",
     "output_type": "stream",
     "text": [
      "Indices of non-zero elements: [0 1 4]\n"
     ]
    }
   ],
   "source": [
    "arr = np.array([1, 2, 0, 0, 4, 0])\n",
    "\n",
    "non_zero_indices = np.nonzero(arr)\n",
    "\n",
    "print(\"Indices of non-zero elements:\", non_zero_indices[0])\n"
   ]
  },
  {
   "cell_type": "code",
   "execution_count": null,
   "id": "3dcfb37c-41c1-452e-8db0-cf74fcc45b2a",
   "metadata": {},
   "outputs": [],
   "source": []
  }
 ],
 "metadata": {
  "kernelspec": {
   "display_name": "Python 3 (ipykernel)",
   "language": "python",
   "name": "python3"
  },
  "language_info": {
   "codemirror_mode": {
    "name": "ipython",
    "version": 3
   },
   "file_extension": ".py",
   "mimetype": "text/x-python",
   "name": "python",
   "nbconvert_exporter": "python",
   "pygments_lexer": "ipython3",
   "version": "3.13.3"
  }
 },
 "nbformat": 4,
 "nbformat_minor": 5
}
